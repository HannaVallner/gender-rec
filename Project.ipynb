{
  "cells": [
    {
      "cell_type": "code",
      "execution_count": null,
      "metadata": {
        "id": "inmE2jxT7NN9"
      },
      "outputs": [],
      "source": [
        "import pandas as pd\n",
        "import seaborn as sns\n",
        "import matplotlib.pyplot as plt\n",
        "import numpy as np\n",
        "from google.colab import drive\n",
        "from pprint import pprint\n",
        "from sklearn.preprocessing import MinMaxScaler\n",
        "from sklearn.model_selection import train_test_split\n",
        "from sklearn.model_selection import RandomizedSearchCV\n",
        "from sklearn.model_selection import KFold, cross_val_score\n",
        "from sklearn.model_selection import cross_val_predict\n",
        "from sklearn.experimental import enable_halving_search_cv  \n",
        "from sklearn.feature_selection import VarianceThreshold\n",
        "from sklearn import metrics\n",
        "from sklearn.metrics import accuracy_score\n",
        "from sklearn.metrics import f1_score\n",
        "from sklearn.metrics import recall_score\n",
        "from sklearn.metrics import precision_score"
      ],
      "id": "inmE2jxT7NN9"
    },
    {
      "cell_type": "code",
      "execution_count": null,
      "metadata": {
        "colab": {
          "base_uri": "https://localhost:8080/"
        },
        "id": "PGNqK1NRAiz-",
        "outputId": "6b092791-6f17-4617-f971-edfd02347eca"
      },
      "outputs": [
        {
          "output_type": "stream",
          "name": "stdout",
          "text": [
            "Mounted at /content/drive\n",
            "/content/drive/My Drive/Colab Notebooks\n",
            "   meanfreq        sd    median       Q25       Q75       IQR       skew  \\\n",
            "0  0.059781  0.064241  0.032027  0.015071  0.090193  0.075122  12.863462   \n",
            "1  0.066009  0.067310  0.040229  0.019414  0.092666  0.073252  22.423285   \n",
            "2  0.077316  0.083829  0.036718  0.008701  0.131908  0.123207  30.757155   \n",
            "3  0.151228  0.072111  0.158011  0.096582  0.207955  0.111374   1.232831   \n",
            "4  0.135120  0.079146  0.124656  0.078720  0.206045  0.127325   1.101174   \n",
            "5  0.132786  0.079557  0.119090  0.067958  0.209592  0.141634   1.932562   \n",
            "6  0.150762  0.074463  0.160106  0.092899  0.205718  0.112819   1.530643   \n",
            "7  0.160514  0.076767  0.144337  0.110532  0.231962  0.121430   1.397156   \n",
            "8  0.142239  0.078018  0.138587  0.088206  0.208587  0.120381   1.099746   \n",
            "9  0.134329  0.080350  0.121451  0.075580  0.201957  0.126377   1.190368   \n",
            "\n",
            "          kurt    sp.ent       sfm  ...  centroid   meanfun    minfun  \\\n",
            "0   274.402906  0.893369  0.491918  ...  0.059781  0.084279  0.015702   \n",
            "1   634.613855  0.892193  0.513724  ...  0.066009  0.107937  0.015826   \n",
            "2  1024.927705  0.846389  0.478905  ...  0.077316  0.098706  0.015656   \n",
            "3     4.177296  0.963322  0.727232  ...  0.151228  0.088965  0.017798   \n",
            "4     4.333713  0.971955  0.783568  ...  0.135120  0.106398  0.016931   \n",
            "5     8.308895  0.963181  0.738307  ...  0.132786  0.110132  0.017112   \n",
            "6     5.987498  0.967573  0.762638  ...  0.150762  0.105945  0.026230   \n",
            "7     4.766611  0.959255  0.719858  ...  0.160514  0.093052  0.017758   \n",
            "8     4.070284  0.970723  0.770992  ...  0.142239  0.096729  0.017957   \n",
            "9     4.787310  0.975246  0.804505  ...  0.134329  0.105881  0.019300   \n",
            "\n",
            "     maxfun   meandom    mindom    maxdom   dfrange   modindx  label  \n",
            "0  0.275862  0.007812  0.007812  0.007812  0.000000  0.000000   male  \n",
            "1  0.250000  0.009014  0.007812  0.054688  0.046875  0.052632   male  \n",
            "2  0.271186  0.007990  0.007812  0.015625  0.007812  0.046512   male  \n",
            "3  0.250000  0.201497  0.007812  0.562500  0.554688  0.247119   male  \n",
            "4  0.266667  0.712812  0.007812  5.484375  5.476562  0.208274   male  \n",
            "5  0.253968  0.298222  0.007812  2.726562  2.718750  0.125160   male  \n",
            "6  0.266667  0.479620  0.007812  5.312500  5.304688  0.123992   male  \n",
            "7  0.144144  0.301339  0.007812  0.539062  0.531250  0.283937   male  \n",
            "8  0.250000  0.336476  0.007812  2.164062  2.156250  0.148272   male  \n",
            "9  0.262295  0.340365  0.015625  4.695312  4.679688  0.089920   male  \n",
            "\n",
            "[10 rows x 21 columns]\n"
          ]
        }
      ],
      "source": [
        "# importing our data and printing out the first 10 rows\n",
        "drive.mount('/content/drive')\n",
        "%cd /content/drive/My Drive/Colab Notebooks/\n",
        "\n",
        "pd.set_option('max_columns', 21)\n",
        "data = pd.read_csv(\"voice.csv\")\n",
        "data.head(10)"
      ],
      "id": "PGNqK1NRAiz-"
    },
    {
      "cell_type": "code",
      "execution_count": null,
      "metadata": {
        "colab": {
          "base_uri": "https://localhost:8080/"
        },
        "id": "ePt0BKZVNJAv",
        "outputId": "19a477e1-27dc-4aa4-d943-b09aece2b02f"
      },
      "outputs": [
        {
          "output_type": "stream",
          "name": "stdout",
          "text": [
            "19\n",
            "Lose the column: minfun\n",
            "{'centroid', 'dfrange', 'kurt'}\n"
          ]
        }
      ],
      "source": [
        "# reading in our dataset, replacing 'male' and 'female' values with 1 and 0, respectively\n",
        "data = pd.read_csv(\"voice.csv\")\n",
        "data[\"label\"] = data[\"label\"].map(dict(male=1, female=0))\n",
        "\n",
        "# using scaler to give all the values in the dataset a new value from 0 to 1.\n",
        "scaler = MinMaxScaler()\n",
        "scaled_feat = scaler.fit_transform(data)\n",
        "scaled_df = pd.DataFrame(scaled_feat, index=data.index, columns=data.columns)\n",
        "#print(scaled_df.head(10))\n",
        "\n",
        "y_data = scaled_df.pop(\"label\")\n",
        "y_data.columns = [\"ID\", \"label\"]\n",
        "X_data = scaled_df\n",
        "\n",
        "# filtering our data, removing constant features (ones that do not cross the threshold of 0.01)\n",
        "qconstant_filter = VarianceThreshold(threshold=0.01)\n",
        "qconstant_filter.fit(X_data)\n",
        "print(len(X_data.columns[qconstant_filter.get_support()]))\n",
        "\n",
        "qconstant_columns = [column for column in X_data.columns\n",
        "                    if column not in X_data.columns[qconstant_filter.get_support()]]\n",
        "     \n",
        "for column in qconstant_columns:\n",
        "    print(\"Lose the column:\", column)\n",
        "\n",
        "# finding highly correlated features and removing them\n",
        "# the reference used for this part of the code can be found at https://stackabuse.com/applying-filter-methods-in-python-for-feature-selection/\n",
        "correlated_features = set()\n",
        "correlation_matrix = X_data.corr()\n",
        "#print(correlation_matrix)\n",
        "for i in range(len(correlation_matrix.columns)):\n",
        "    for j in range(i):\n",
        "        if abs(correlation_matrix.iloc[i, j]) > 0.95:\n",
        "            column_name = correlation_matrix.columns[i]\n",
        "            correlated_features.add(column_name)\n",
        "print(correlated_features)\n",
        "X_data.drop(labels=correlated_features, axis=1, inplace=True)\n",
        "\n",
        "# split into training and test data (test data makes up 20% of the original data)\n",
        "X_train, X_test, y_train, y_test = train_test_split(X_data, y_data, test_size=0.2, random_state=42)"
      ],
      "id": "ePt0BKZVNJAv"
    },
    {
      "cell_type": "markdown",
      "metadata": {
        "id": "y59kc96BStoY"
      },
      "source": [
        "For every model: <br>\n",
        "  <> Randomized search <br>\n",
        "  <> Regularization <br>\n",
        "  <> Find probabilities <br>\n",
        "  <> Cross-validation <br>\n",
        "<br>\n",
        "Try out all of the six models, decide on four best and combine them for the result."
      ],
      "id": "y59kc96BStoY"
    },
    {
      "cell_type": "code",
      "execution_count": null,
      "metadata": {
        "colab": {
          "base_uri": "https://localhost:8080/"
        },
        "id": "sr7uNg32REYu",
        "outputId": "1ddf3218-fc17-4cb3-d9c7-9be70e562be7"
      },
      "outputs": [
        {
          "output_type": "stream",
          "name": "stderr",
          "text": [
            "/usr/local/lib/python3.8/dist-packages/sklearn/model_selection/_search.py:292: UserWarning: The total space of parameters 72 is smaller than n_iter=100. Running 72 iterations. For exhaustive searches, use GridSearchCV.\n",
            "  warnings.warn(\n",
            "/usr/local/lib/python3.8/dist-packages/sklearn/model_selection/_validation.py:372: FitFailedWarning: \n",
            "176 fits failed out of a total of 288.\n",
            "The score on these train-test partitions for these parameters will be set to nan.\n",
            "If these failures are not expected, you can try to debug them by setting error_score='raise'.\n",
            "\n",
            "Below are more details about the failures:\n",
            "--------------------------------------------------------------------------------\n",
            "16 fits failed with the following error:\n",
            "Traceback (most recent call last):\n",
            "  File \"/usr/local/lib/python3.8/dist-packages/sklearn/model_selection/_validation.py\", line 680, in _fit_and_score\n",
            "    estimator.fit(X_train, y_train, **fit_params)\n",
            "  File \"/usr/local/lib/python3.8/dist-packages/sklearn/linear_model/_logistic.py\", line 1461, in fit\n",
            "    solver = _check_solver(self.solver, self.penalty, self.dual)\n",
            "  File \"/usr/local/lib/python3.8/dist-packages/sklearn/linear_model/_logistic.py\", line 447, in _check_solver\n",
            "    raise ValueError(\n",
            "ValueError: Solver lbfgs supports only 'l2' or 'none' penalties, got l1 penalty.\n",
            "\n",
            "--------------------------------------------------------------------------------\n",
            "16 fits failed with the following error:\n",
            "Traceback (most recent call last):\n",
            "  File \"/usr/local/lib/python3.8/dist-packages/sklearn/model_selection/_validation.py\", line 680, in _fit_and_score\n",
            "    estimator.fit(X_train, y_train, **fit_params)\n",
            "  File \"/usr/local/lib/python3.8/dist-packages/sklearn/linear_model/_logistic.py\", line 1461, in fit\n",
            "    solver = _check_solver(self.solver, self.penalty, self.dual)\n",
            "  File \"/usr/local/lib/python3.8/dist-packages/sklearn/linear_model/_logistic.py\", line 447, in _check_solver\n",
            "    raise ValueError(\n",
            "ValueError: Solver newton-cg supports only 'l2' or 'none' penalties, got l1 penalty.\n",
            "\n",
            "--------------------------------------------------------------------------------\n",
            "48 fits failed with the following error:\n",
            "Traceback (most recent call last):\n",
            "  File \"/usr/local/lib/python3.8/dist-packages/sklearn/model_selection/_validation.py\", line 680, in _fit_and_score\n",
            "    estimator.fit(X_train, y_train, **fit_params)\n",
            "  File \"/usr/local/lib/python3.8/dist-packages/sklearn/linear_model/_logistic.py\", line 1461, in fit\n",
            "    solver = _check_solver(self.solver, self.penalty, self.dual)\n",
            "  File \"/usr/local/lib/python3.8/dist-packages/sklearn/linear_model/_logistic.py\", line 434, in _check_solver\n",
            "    raise ValueError(\n",
            "ValueError: Logistic Regression supports only solvers in ['liblinear', 'newton-cg', 'lbfgs', 'sag', 'saga'], got newton-cholesky.\n",
            "\n",
            "--------------------------------------------------------------------------------\n",
            "16 fits failed with the following error:\n",
            "Traceback (most recent call last):\n",
            "  File \"/usr/local/lib/python3.8/dist-packages/sklearn/model_selection/_validation.py\", line 680, in _fit_and_score\n",
            "    estimator.fit(X_train, y_train, **fit_params)\n",
            "  File \"/usr/local/lib/python3.8/dist-packages/sklearn/linear_model/_logistic.py\", line 1461, in fit\n",
            "    solver = _check_solver(self.solver, self.penalty, self.dual)\n",
            "  File \"/usr/local/lib/python3.8/dist-packages/sklearn/linear_model/_logistic.py\", line 447, in _check_solver\n",
            "    raise ValueError(\n",
            "ValueError: Solver sag supports only 'l2' or 'none' penalties, got l1 penalty.\n",
            "\n",
            "--------------------------------------------------------------------------------\n",
            "16 fits failed with the following error:\n",
            "Traceback (most recent call last):\n",
            "  File \"/usr/local/lib/python3.8/dist-packages/sklearn/model_selection/_validation.py\", line 680, in _fit_and_score\n",
            "    estimator.fit(X_train, y_train, **fit_params)\n",
            "  File \"/usr/local/lib/python3.8/dist-packages/sklearn/linear_model/_logistic.py\", line 1461, in fit\n",
            "    solver = _check_solver(self.solver, self.penalty, self.dual)\n",
            "  File \"/usr/local/lib/python3.8/dist-packages/sklearn/linear_model/_logistic.py\", line 447, in _check_solver\n",
            "    raise ValueError(\n",
            "ValueError: Solver lbfgs supports only 'l2' or 'none' penalties, got elasticnet penalty.\n",
            "\n",
            "--------------------------------------------------------------------------------\n",
            "16 fits failed with the following error:\n",
            "Traceback (most recent call last):\n",
            "  File \"/usr/local/lib/python3.8/dist-packages/sklearn/model_selection/_validation.py\", line 680, in _fit_and_score\n",
            "    estimator.fit(X_train, y_train, **fit_params)\n",
            "  File \"/usr/local/lib/python3.8/dist-packages/sklearn/linear_model/_logistic.py\", line 1461, in fit\n",
            "    solver = _check_solver(self.solver, self.penalty, self.dual)\n",
            "  File \"/usr/local/lib/python3.8/dist-packages/sklearn/linear_model/_logistic.py\", line 457, in _check_solver\n",
            "    raise ValueError(\n",
            "ValueError: Only 'saga' solver supports elasticnet penalty, got solver=liblinear.\n",
            "\n",
            "--------------------------------------------------------------------------------\n",
            "16 fits failed with the following error:\n",
            "Traceback (most recent call last):\n",
            "  File \"/usr/local/lib/python3.8/dist-packages/sklearn/model_selection/_validation.py\", line 680, in _fit_and_score\n",
            "    estimator.fit(X_train, y_train, **fit_params)\n",
            "  File \"/usr/local/lib/python3.8/dist-packages/sklearn/linear_model/_logistic.py\", line 1461, in fit\n",
            "    solver = _check_solver(self.solver, self.penalty, self.dual)\n",
            "  File \"/usr/local/lib/python3.8/dist-packages/sklearn/linear_model/_logistic.py\", line 447, in _check_solver\n",
            "    raise ValueError(\n",
            "ValueError: Solver newton-cg supports only 'l2' or 'none' penalties, got elasticnet penalty.\n",
            "\n",
            "--------------------------------------------------------------------------------\n",
            "16 fits failed with the following error:\n",
            "Traceback (most recent call last):\n",
            "  File \"/usr/local/lib/python3.8/dist-packages/sklearn/model_selection/_validation.py\", line 680, in _fit_and_score\n",
            "    estimator.fit(X_train, y_train, **fit_params)\n",
            "  File \"/usr/local/lib/python3.8/dist-packages/sklearn/linear_model/_logistic.py\", line 1461, in fit\n",
            "    solver = _check_solver(self.solver, self.penalty, self.dual)\n",
            "  File \"/usr/local/lib/python3.8/dist-packages/sklearn/linear_model/_logistic.py\", line 447, in _check_solver\n",
            "    raise ValueError(\n",
            "ValueError: Solver sag supports only 'l2' or 'none' penalties, got elasticnet penalty.\n",
            "\n",
            "--------------------------------------------------------------------------------\n",
            "16 fits failed with the following error:\n",
            "Traceback (most recent call last):\n",
            "  File \"/usr/local/lib/python3.8/dist-packages/sklearn/model_selection/_validation.py\", line 680, in _fit_and_score\n",
            "    estimator.fit(X_train, y_train, **fit_params)\n",
            "  File \"/usr/local/lib/python3.8/dist-packages/sklearn/linear_model/_logistic.py\", line 1471, in fit\n",
            "    raise ValueError(\n",
            "ValueError: l1_ratio must be between 0 and 1; got (l1_ratio=None)\n",
            "\n",
            "  warnings.warn(some_fits_failed_message, FitFailedWarning)\n",
            "/usr/local/lib/python3.8/dist-packages/sklearn/model_selection/_search.py:969: UserWarning: One or more of the test scores are non-finite: [       nan 0.97079901        nan        nan        nan 0.97198322\n",
            " 0.96606466 0.96606466 0.96606466        nan 0.96606466 0.96606466\n",
            "        nan        nan        nan        nan        nan        nan\n",
            "        nan 0.96961604        nan        nan        nan 0.97198322\n",
            " 0.96645898 0.96645898 0.96645898        nan 0.96645898 0.96645898\n",
            "        nan        nan        nan        nan        nan        nan\n",
            "        nan 0.97001037        nan        nan        nan 0.97040531\n",
            " 0.96803751 0.9668533  0.96803751        nan 0.96803751 0.96803751\n",
            "        nan        nan        nan        nan        nan        nan\n",
            "        nan 0.97001099        nan        nan        nan 0.97080026\n",
            " 0.96961542 0.96803751 0.96961542        nan 0.96961542 0.96961542\n",
            "        nan        nan        nan        nan        nan        nan]\n",
            "  warnings.warn(\n"
          ]
        },
        {
          "output_type": "stream",
          "name": "stdout",
          "text": [
            "{'solver': 'saga', 'penalty': 'l1', 'C': 0.75}\n",
            "[0.96055227 0.96844181 0.97830375 0.97238659 0.9743083 ]\n",
            "0.9707985437082428\n",
            "[[0.24799568 0.75200432]\n",
            " [0.9988536  0.0011464 ]\n",
            " [0.98856224 0.01143776]\n",
            " ...\n",
            " [0.00400545 0.99599455]\n",
            " [0.0054584  0.9945416 ]\n",
            " [0.04516017 0.95483983]]\n"
          ]
        }
      ],
      "source": [
        "# logistic regression\n",
        "from sklearn.linear_model import LogisticRegression\n",
        "LR_model = LogisticRegression(random_state=42, max_iter=1000, solver=\"saga\", penalty=\"l1\", C=0.75) \n",
        "\n",
        "k_folds = KFold(n_splits = 5, random_state=42, shuffle=True)\n",
        "\n",
        "grid = {\"penalty\": ['l1', 'l2', 'elasticnet'],\n",
        "        \"C\": [0.001, 0.01, 0.1, 1, 10],\n",
        "        \"solver\": ['lbfgs', 'liblinear', 'newton-cg', 'newton-cholesky', 'sag', 'saga']}\n",
        "\n",
        "# {'solver': 'saga', 'penalty': 'l1', 'C': 1}\n",
        "\n",
        "grid = {\"penalty\": ['l1', 'l2', 'elasticnet'],\n",
        "        \"C\": [0.75, 1, 3, 5],\n",
        "        \"solver\": ['lbfgs', 'liblinear', 'newton-cg', 'newton-cholesky', 'sag', 'saga']}\n",
        "\n",
        "# {'solver': 'saga', 'penalty': 'l1', 'C': 0.75}\n",
        "\n",
        "# using randomized search to find the best parameters for our model\n",
        "LR_random = RandomizedSearchCV(estimator=LR_model, param_distributions=grid, n_iter=100, cv=4, random_state=42).fit(X_train, y_train)\n",
        "print(LR_random.best_params_)\n",
        "\n",
        "# using cross-validation to iterate through our train and test data and find the generalized scores for this model\n",
        "LR_scores = cross_val_score(LR_model, X_train, y_train, cv = k_folds)\n",
        "print(LR_scores)\n",
        "sum = 0\n",
        "for i in range(len(LR_scores)):\n",
        "  sum += LR_scores[i]\n",
        "\n",
        "print(sum/5)\n",
        "\n",
        "# scores before scaler: [0.88954635 0.88954635 0.91913215 0.88954635 0.88932806]\n",
        "# scores after scaler: [0.95266272 0.96449704 0.97238659 0.9704142  0.97035573]\n",
        "# average before filter: 0.9660632566987083\n",
        "# average after filter: 0.9660632566987083\n",
        "\n",
        "LR_proba = cross_val_predict(LR_model, X_train, y_train, cv=k_folds, method='predict_proba')\n",
        "print(LR_proba)"
      ],
      "id": "sr7uNg32REYu"
    },
    {
      "cell_type": "code",
      "execution_count": null,
      "metadata": {
        "colab": {
          "base_uri": "https://localhost:8080/"
        },
        "id": "aAAqcEWAzKRS",
        "outputId": "d6a21707-29ec-4fd1-d9d3-8c381f39354d"
      },
      "outputs": [
        {
          "output_type": "stream",
          "name": "stdout",
          "text": [
            "F-measure: 0.9659000793021412\n",
            "Recall: 0.9767441860465116\n",
            "Precision: 0.9552941176470588\n"
          ]
        }
      ],
      "source": [
        "# F-measure, recall and precision for LR\n",
        "LR_pred = cross_val_predict(LR_model, X_train, y_train, cv=k_folds, method='predict')\n",
        "print(\"F-measure:\", f1_score(y_train, LR_pred, average='binary'))\n",
        "print(\"Recall:\", recall_score(y_train, LR_pred, average='binary'))\n",
        "print(\"Precision:\", precision_score(y_train, LR_pred, average='binary'))"
      ],
      "id": "aAAqcEWAzKRS"
    },
    {
      "cell_type": "code",
      "execution_count": null,
      "metadata": {
        "colab": {
          "base_uri": "https://localhost:8080/"
        },
        "id": "FRP45mI4SES3",
        "outputId": "e88a266a-cecc-4096-87a2-27c6bba65f71"
      },
      "outputs": [
        {
          "output_type": "stream",
          "name": "stdout",
          "text": [
            "[0.97633136 0.97830375 0.98027613 0.97633136 0.98616601]\n",
            "0.9794817222910869\n",
            "[[0. 1.]\n",
            " [1. 0.]\n",
            " [1. 0.]\n",
            " ...\n",
            " [0. 1.]\n",
            " [0. 1.]\n",
            " [0. 1.]]\n"
          ]
        }
      ],
      "source": [
        "# KNN\n",
        "from sklearn.neighbors import KNeighborsClassifier\n",
        "KNN_model = KNeighborsClassifier(n_neighbors=3, leaf_size=1, algorithm=\"auto\", weights=\"uniform\")\n",
        "\n",
        "# the first grid\n",
        "grid = {\"n_neighbors\": [1, 5, 10, 25, 50, 100],\n",
        "        \"weights\": ['uniform', 'distance'],\n",
        "        \"algorithm\": ['auto', 'ball_tree', 'kd_tree', 'brute'],\n",
        "        \"leaf_size\": [10, 25, 50, 75, 100, 200]}\n",
        "\n",
        "# the second, optimized grid\n",
        "grid = {\"n_neighbors\": [3, 5, 7],\n",
        "        \"weights\": ['uniform', 'distance'],\n",
        "        \"algorithm\": ['auto', 'ball_tree', 'kd_tree', 'brute'],\n",
        "        \"leaf_size\": [1, 2, 3, 4, 5]}\n",
        "\n",
        "# using randomized search to find the best parameters for our model\n",
        "KNN_random = RandomizedSearchCV(estimator=KNN_model, param_distributions=grid, n_iter=150, cv=4, random_state=42).fit(X_train, y_train)\n",
        "print(KNN_random.best_params_)\n",
        "\n",
        "# using cross-validation to iterate through our train and test data and find the generalized scores for this model\n",
        "KNN_scores = cross_val_score(KNN_model, X_train, y_train, cv = k_folds)\n",
        "print(KNN_scores)\n",
        "\n",
        "# finding the average result for this model from the scores generated by the code above\n",
        "sum = 0\n",
        "for i in range(len(KNN_scores)):\n",
        "  sum += KNN_scores[i]\n",
        "\n",
        "print(sum/5)\n",
        "\n",
        "# scores with default hyperparameters [0.69230769 0.70414201 0.75936884 0.6765286 0.67786561]\n",
        "# scores with first new parameters [0.70414201 0.71203156 0.71400394 0.67850099 0.7055336]\n",
        "# scores after scaler: [0.96844181 0.97238659 0.97435897 0.97435897 0.98418972]\n",
        "# average before filter: 0.974747214880994\n",
        "# average after filter: 0.9763259037506529\n",
        "# average after changing parameters: 0.9794817222910869\n",
        "\n",
        "KNN_proba = cross_val_predict(KNN_model, X_train, y_train, cv=k_folds, method='predict_proba')\n",
        "print(KNN_proba)"
      ],
      "id": "FRP45mI4SES3"
    },
    {
      "cell_type": "code",
      "execution_count": null,
      "metadata": {
        "colab": {
          "base_uri": "https://localhost:8080/"
        },
        "id": "tlTIyUPOzEd2",
        "outputId": "c3648f01-d2a1-44dc-ddc2-b5370e034d6b"
      },
      "outputs": [
        {
          "output_type": "stream",
          "name": "stdout",
          "text": [
            "F-measure: 0.9791666666666666\n",
            "Recall: 0.9799518845228549\n",
            "Precision: 0.978382706164932\n"
          ]
        }
      ],
      "source": [
        "# F-measure, recall and precision for KNN\n",
        "KNN_pred = cross_val_predict(KNN_model, X_train, y_train, cv=k_folds, method='predict')\n",
        "print(\"F-measure:\", f1_score(y_train, KNN_pred, average='binary'))\n",
        "print(\"Recall:\", recall_score(y_train, KNN_pred, average='binary'))\n",
        "print(\"Precision:\", precision_score(y_train, KNN_pred, average='binary'))"
      ],
      "id": "tlTIyUPOzEd2"
    },
    {
      "cell_type": "code",
      "execution_count": null,
      "metadata": {
        "colab": {
          "base_uri": "https://localhost:8080/"
        },
        "id": "TFkVKGQ-RtvD",
        "outputId": "1d17fdcd-862d-4a49-f1cb-21c949236756"
      },
      "outputs": [
        {
          "output_type": "stream",
          "name": "stdout",
          "text": [
            "{'bootstrap': False,\n",
            " 'ccp_alpha': 0.0,\n",
            " 'class_weight': None,\n",
            " 'criterion': 'gini',\n",
            " 'max_depth': 10,\n",
            " 'max_features': 'auto',\n",
            " 'max_leaf_nodes': None,\n",
            " 'max_samples': None,\n",
            " 'min_impurity_decrease': 0.0,\n",
            " 'min_samples_leaf': 3,\n",
            " 'min_samples_split': 4,\n",
            " 'min_weight_fraction_leaf': 0.0,\n",
            " 'n_estimators': 600,\n",
            " 'n_jobs': None,\n",
            " 'oob_score': False,\n",
            " 'random_state': 42,\n",
            " 'verbose': 0,\n",
            " 'warm_start': False}\n",
            "[0.97633136 0.98027613 0.98224852 0.97238659 0.98221344]\n",
            "0.9786912084570947\n",
            "[[1.74231726e-01 8.25768274e-01]\n",
            " [9.80434958e-01 1.95650424e-02]\n",
            " [9.97229788e-01 2.77021189e-03]\n",
            " ...\n",
            " [1.38970545e-03 9.98610295e-01]\n",
            " [2.55543288e-04 9.99744457e-01]\n",
            " [2.48021512e-03 9.97519785e-01]]\n"
          ]
        }
      ],
      "source": [
        "# random forest \n",
        "from sklearn.ensemble import RandomForestClassifier\n",
        "rf_model = RandomForestClassifier(random_state=42, n_estimators=600, min_samples_split=4, min_samples_leaf=3, max_features=\"auto\", max_depth=10, bootstrap=False)\n",
        "\n",
        "# random grid to narrow down the possibilities\n",
        "pprint(rf_model.get_params())\n",
        "grid = {'n_estimators': [100, 250, 500, 750, 1000, 1500, 2000],\n",
        "        'max_depth': [10, 25, 50, 75, 100, 150, 200, None],\n",
        "        'min_samples_split': [2, 5, 10, 20],\n",
        "        'min_samples_leaf': [1, 2, 4, 10],\n",
        "        'max_features': ['auto', 'sqrt'],\n",
        "        'bootstrap': [True, False]}\n",
        "\n",
        "grid = {'n_estimators': [300, 400, 500, 600, 700],\n",
        "        'max_depth': [5, 7, 10, 12],\n",
        "        'min_samples_split': [4, 5, 6, 7, 8],\n",
        "        'min_samples_leaf': [1, 2, 3],\n",
        "        'max_features': ['auto', 'sqrt'],\n",
        "        'bootstrap': [True, False]}\n",
        "#max_depth gives a higher accuracy with None, but we're using lower values here to prevent overfitting\n",
        "\n",
        "# using randomized search to find the best parameters for our model\n",
        "rf_random = RandomizedSearchCV(estimator=rf_model, param_distributions=grid, n_iter=100, cv=4, random_state=42).fit(X_train, y_train)\n",
        "rf_random.best_params_\n",
        "\n",
        "# using cross-validation to iterate through our train and test data and find the generalized scores for this model\n",
        "rf_scores = cross_val_score(rf_model, X_train, y_train, cv = k_folds)\n",
        "print(rf_scores)\n",
        "\n",
        "# finding the average result for this model from the scores generated by the code above\n",
        "sum = 0\n",
        "for i in range(len(rf_scores)):\n",
        "  sum += rf_scores[i]\n",
        "\n",
        "print(sum/5)\n",
        "\n",
        "# scores before scaler: [0.97830375 0.98224852 0.98816568 0.9704142  0.98418972]\n",
        "# scores after scaler: [0.97830375 0.98224852 0.98816568 0.9704142  0.98221344]\n",
        "# average score after: 0.9786912084570947\n",
        "# average score after scaler and filter without new params: 0.9786912084570947\n",
        "\n",
        "rf_proba = cross_val_predict(rf_model, X_train, y_train, cv=k_folds, method='predict_proba')\n",
        "print(rf_proba)"
      ],
      "id": "TFkVKGQ-RtvD"
    },
    {
      "cell_type": "code",
      "execution_count": null,
      "metadata": {
        "colab": {
          "base_uri": "https://localhost:8080/"
        },
        "id": "ZOhj3J0qy95I",
        "outputId": "7253ede4-734e-4747-a441-af830f9801f2"
      },
      "outputs": [
        {
          "output_type": "stream",
          "name": "stdout",
          "text": [
            "F-measure: 0.9782608695652173\n",
            "Recall: 0.9743384121892542\n",
            "Precision: 0.9822150363783346\n"
          ]
        }
      ],
      "source": [
        "# F-measure, recall and precision for rf\n",
        "rf_pred = cross_val_predict(rf_model, X_train, y_train, cv=k_folds, method='predict')\n",
        "print(\"F-measure:\", f1_score(y_train, rf_pred, average='binary'))\n",
        "print(\"Recall:\", recall_score(y_train, rf_pred, average='binary'))\n",
        "print(\"Precision:\", precision_score(y_train, rf_pred, average='binary'))"
      ],
      "id": "ZOhj3J0qy95I"
    },
    {
      "cell_type": "code",
      "execution_count": null,
      "metadata": {
        "colab": {
          "base_uri": "https://localhost:8080/"
        },
        "id": "5L2UkKz5RwyN",
        "outputId": "6e232289-b6a0-4e9e-a527-467daf2f8f54"
      },
      "outputs": [
        {
          "output_type": "stream",
          "name": "stdout",
          "text": [
            "[0.91321499 0.9112426  0.92504931 0.90729783 0.92687747]\n",
            "0.9167364408167084\n",
            "[[2.87219354e-01 7.12780646e-01]\n",
            " [9.99997333e-01 2.66718574e-06]\n",
            " [9.99991217e-01 8.78316270e-06]\n",
            " ...\n",
            " [5.68725809e-02 9.43127419e-01]\n",
            " [2.23935197e-04 9.99776065e-01]\n",
            " [2.57981384e-04 9.99742019e-01]]\n"
          ]
        }
      ],
      "source": [
        "# Naive Bayes\n",
        "from sklearn.naive_bayes import GaussianNB\n",
        "gnb_model = GaussianNB()\n",
        "\n",
        "# as Gaussian Naive Bayes has only two parameters, we tried some models ourselves and came to the conclusion that the default parameters worked best\n",
        "\n",
        "# using cross-validation to iterate through our train and test data and find the generalized scores for this model\n",
        "gnb_scores = cross_val_score(gnb_model, X_train, y_train, cv = k_folds)\n",
        "print(gnb_scores)\n",
        "\n",
        "# finding the average result for this model from the scores generated by the code above\n",
        "sum = 0\n",
        "for i in range(len(gnb_scores)):\n",
        "  sum += gnb_scores[i]\n",
        "print(sum/5)\n",
        "\n",
        "# scores before scaler: [0.86982249 0.90138067 0.8974359  0.86390533 0.8972332 ]\n",
        "# scores after scaler: [0.8816568  0.90138067 0.89940828 0.8678501  0.90316206]\n",
        "# average before filter: 0.8906915826648267\n",
        "# average after filter: 0.9167364408167084\n",
        "\n",
        "gnb_proba = cross_val_predict(gnb_model, X_train, y_train, cv=k_folds, method='predict_proba')\n",
        "print(gnb_proba)"
      ],
      "id": "5L2UkKz5RwyN"
    },
    {
      "cell_type": "code",
      "execution_count": null,
      "metadata": {
        "colab": {
          "base_uri": "https://localhost:8080/"
        },
        "id": "DCvSXyM_y0Z0",
        "outputId": "1736c180-f0fc-4975-bbd7-ec4238374047"
      },
      "outputs": [
        {
          "output_type": "stream",
          "name": "stdout",
          "text": [
            "F-measure: 0.917352134743439\n",
            "Recall: 0.9390537289494787\n",
            "Precision: 0.8966309341500766\n"
          ]
        }
      ],
      "source": [
        "# F-measure, recall and precision for gnb\n",
        "gnb_pred = cross_val_predict(gnb_model, X_train, y_train, cv=k_folds, method='predict')\n",
        "print(\"F-measure:\", f1_score(y_train, gnb_pred, average='binary'))\n",
        "print(\"Recall:\", recall_score(y_train, gnb_pred, average='binary'))\n",
        "print(\"Precision:\", precision_score(y_train, gnb_pred, average='binary'))"
      ],
      "id": "DCvSXyM_y0Z0"
    },
    {
      "cell_type": "code",
      "execution_count": null,
      "metadata": {
        "colab": {
          "base_uri": "https://localhost:8080/"
        },
        "id": "WUHNfA7CRzSb",
        "outputId": "a57ae2d7-9ef4-4c9a-f87a-d7d2be1022d3"
      },
      "outputs": [
        {
          "output_type": "stream",
          "name": "stdout",
          "text": [
            "[[1.86393095e-02 9.81360690e-01]\n",
            " [9.83845330e-01 1.61546698e-02]\n",
            " [9.99786751e-01 2.13249169e-04]\n",
            " ...\n",
            " [8.99367605e-06 9.99991006e-01]\n",
            " [1.78005677e-05 9.99982199e-01]\n",
            " [4.36344318e-03 9.95636557e-01]]\n"
          ]
        }
      ],
      "source": [
        "# multilayer perceptron\n",
        "from sklearn.neural_network import MLPClassifier\n",
        "\n",
        "#the final model with 0.9782959515400986 average accuracy\n",
        "MLP_model = MLPClassifier(random_state=42, max_iter=5000, solver=\"lbfgs\", learning_rate=\"constant\", hidden_layer_sizes=300, alpha=0.3).fit(X_train, y_train)\n",
        "\n",
        "#pprint(MLP_model.get_params())\n",
        "grid = {'solver': ['lbfgs', 'adam', 'sgd'],\n",
        "        'alpha': [0.0001, 0.001, 0.1, 0.5], \n",
        "        'hidden_layer_sizes': [5, 10, 25, 50, 100],\n",
        "        'learning_rate': ['constant', 'adaptive']}\n",
        "\n",
        "# {'solver': 'lbfgs', 'learning_rate': 'adaptive', 'hidden_layer_sizes': 5, 'alpha': 0.1}\n",
        "# {'solver': 'lbfgs', learning_rate': 'constant', 'hidden_layer_sizes': 100, 'alpha': 0.5}\n",
        "\n",
        "grid = {'alpha': [0.3, 0.4, 0.5, 0.6], \n",
        "        'hidden_layer_sizes': [200, 250, 300, 350],\n",
        "        'learning_rate': ['constant', 'adaptive']}\n",
        "\n",
        "# {'solver': 'lbfgs', 'learning_rate': 'adaptive', 'hidden_layer_sizes': 200, 'alpha': 0.5}\n",
        "# {'hidden_layer_sizes': 250, 'alpha': 0.4}\n",
        "# {'learning_rate': 'constant', 'hidden_layer_sizes': 300, 'alpha': 0.3}\n",
        "\n",
        "# using randomized search to find the best parameters for our model\n",
        "#MLP_random = RandomizedSearchCV(estimator=MLP_model, param_distributions=grid, n_iter=100, cv=3, random_state=42).fit(X_train, y_train)\n",
        "#print(MLP_random.best_params_)\n",
        "\n",
        "# using cross-validation to iterate through our train and test data and find the generalized scores for this model\n",
        "#MLP_scores = cross_val_score(MLP_model, X_train, y_train, cv = k_folds)\n",
        "#print(MLP_scores)\n",
        "\n",
        "# finding the average result for this model from the scores generated by the code above\n",
        "\"\"\"\n",
        "sum = 0\n",
        "for i in range(len(MLP_scores)):\n",
        "  sum += MLP_scores[i]\n",
        "\n",
        "print(sum/5)\n",
        "\"\"\"\n",
        "\n",
        "# default: [0.90335306 0.86390533 0.92110454 0.91321499 0.93873518]\n",
        "# new parameters: [0.96055227 0.9704142  0.9704142  0.97830375 0.9743083 ]\n",
        "# after scaler: [0.9566075  0.96646943 0.97633136 0.98027613 0.97628458]\n",
        "# average before filter: 0.9711938006252387\n",
        "# average after filter: 0.9711922414263551\n",
        "# average score after new parameters (first grid): 0.9767180422698818\n",
        "# average score after new parameters (second, more specific grid): 0.9782959515400986\n",
        "\n",
        "MLP_proba = cross_val_predict(MLP_model, X_train, y_train, cv=k_folds, method='predict_proba')\n",
        "print(MLP_proba)"
      ],
      "id": "WUHNfA7CRzSb"
    },
    {
      "cell_type": "code",
      "execution_count": null,
      "metadata": {
        "colab": {
          "base_uri": "https://localhost:8080/"
        },
        "id": "E87z3gFLykny",
        "outputId": "a12a580c-a470-4e1e-b76d-6c0ddceab464"
      },
      "outputs": [
        {
          "name": "stdout",
          "output_type": "stream",
          "text": [
            "F-measure: 0.9778850020104544\n",
            "Recall: 0.97514033680834\n",
            "Precision: 0.9806451612903225\n"
          ]
        }
      ],
      "source": [
        "# F-measure, recall and precision for MLP\n",
        "MLP_pred = cross_val_predict(MLP_model, X_train, y_train, cv=k_folds, method='predict')\n",
        "print(\"F-measure:\", f1_score(y_train, MLP_pred, average='binary'))\n",
        "print(\"Recall:\", recall_score(y_train, MLP_pred, average='binary'))\n",
        "print(\"Precision:\", precision_score(y_train, MLP_pred, average='binary'))"
      ],
      "id": "E87z3gFLykny"
    },
    {
      "cell_type": "code",
      "execution_count": null,
      "metadata": {
        "colab": {
          "base_uri": "https://localhost:8080/"
        },
        "id": "MvNNPOLE3Z8k",
        "outputId": "e6efba51-2aef-43cb-a5db-d3ae8bd0683b"
      },
      "outputs": [
        {
          "output_type": "stream",
          "name": "stdout",
          "text": [
            "[0.96646943 0.97830375 0.97830375 0.98027613 0.98023715]\n",
            "0.9767180422698818\n",
            "[[1.38434510e-01 8.61565490e-01]\n",
            " [9.99909263e-01 9.07370899e-05]\n",
            " [9.97682894e-01 2.31710570e-03]\n",
            " ...\n",
            " [8.69167159e-08 9.99999913e-01]\n",
            " [3.36807035e-06 9.99996632e-01]\n",
            " [1.35166421e-02 9.86483358e-01]]\n"
          ]
        }
      ],
      "source": [
        "# SVM\n",
        "from sklearn.svm import SVC\n",
        "svm_model = SVC(random_state=42, probability=True, kernel='poly', gamma=0.6, C=0.4)\n",
        "\n",
        "grid = {'C': [0.001, 0.1, 1, 10, 100, 1000], \n",
        "        'gamma': [1, 0.1, 0.01, 0.001, 0.0001],\n",
        "        'kernel': ['rbf', 'poly', 'sigmoid', 'linear']} \n",
        "\n",
        "# {'kernel': 'poly', 'gamma': 0.1, 'C': 100}\n",
        "\n",
        "grid = {'C': [0.05, 0.1, 0.25, 0.5], \n",
        "        'gamma': [0.5, 0.25, 0.1, 0.075, 0.05],\n",
        "        'kernel': ['rbf', 'poly', 'sigmoid', 'linear']} \n",
        "\n",
        "# {'kernel': 'poly', 'gamma': 0.5, 'C': 0.5}\n",
        "\n",
        "grid = {'C': [0.4, 0.5, 0.6, 0.7], \n",
        "        'gamma': [0.6, 0.5, 0.4, 0.3],\n",
        "        'kernel': ['rbf', 'poly', 'sigmoid', 'linear']} \n",
        "\n",
        "# {'kernel': 'poly', 'gamma': 0.6, 'C': 0.4}\n",
        "\n",
        "# using randomized search to find the best parameters for our model\n",
        "#svm_random = RandomizedSearchCV(estimator=svm_model, param_distributions=grid, n_iter=100, cv=3, random_state=42).fit(X_train, y_train)\n",
        "#print(svm_random.best_params_)\n",
        "\n",
        "# using cross-validation to iterate through our train and test data and find the generalized scores for this model\n",
        "svm_scores = cross_val_score(svm_model, X_train, y_train, cv = k_folds)\n",
        "print(svm_scores)\n",
        "\n",
        "# scores before: [0.67061144 0.68047337 0.71597633 0.67850099 0.6541502 ]\n",
        "# average score after (filter and scaler): 0.9759298672342152 \n",
        "# average score after with new parameters: 0.9767180422698818\n",
        "\n",
        "# finding the average result for this model from the scores generated by the code above\n",
        "sum = 0\n",
        "for i in range(len(svm_scores)):\n",
        "  sum += svm_scores[i]\n",
        "print(sum/5)\n",
        "\n",
        "svm_proba = cross_val_predict(svm_model, X_train, y_train, cv=k_folds, method='predict_proba')\n",
        "print(svm_proba)"
      ],
      "id": "MvNNPOLE3Z8k"
    },
    {
      "cell_type": "code",
      "execution_count": null,
      "metadata": {
        "colab": {
          "base_uri": "https://localhost:8080/"
        },
        "id": "xk7tF71JxV-F",
        "outputId": "eb3edefa-dd01-4dfd-8726-e6bc967ccc02"
      },
      "outputs": [
        {
          "name": "stdout",
          "output_type": "stream",
          "text": [
            "F-measure: 0.9763527054108218\n",
            "Recall: 0.9767441860465116\n",
            "Precision: 0.9759615384615384\n"
          ]
        }
      ],
      "source": [
        "# F-measure, recall and precision for svm\n",
        "svm_pred = cross_val_predict(svm_model, X_train, y_train, cv=k_folds, method='predict')\n",
        "print(\"F-measure:\", f1_score(y_train, svm_pred, average='binary'))\n",
        "print(\"Recall:\", recall_score(y_train, svm_pred, average='binary'))\n",
        "print(\"Precision:\", precision_score(y_train, svm_pred, average='binary'))"
      ],
      "id": "xk7tF71JxV-F"
    },
    {
      "cell_type": "markdown",
      "metadata": {
        "id": "H1YzXyf0zUOj"
      },
      "source": [
        "# The average scores of models after scaler, filter and gridsearch: <br>\n",
        "Logistic Regression: 0.9707985437082428 <br>\n",
        "KNN: 0.9794817222910869 <br> \n",
        "Random Forest: 0.9786912084570947 <br>\n",
        "Naive Bayes: 0.9167364408167084 <br>\n",
        "MLP: 0.9782959515400986 <br>\n",
        "SVM: 0.9767180422698818 "
      ],
      "id": "H1YzXyf0zUOj"
    },
    {
      "cell_type": "code",
      "execution_count": null,
      "metadata": {
        "colab": {
          "base_uri": "https://localhost:8080/"
        },
        "id": "etDSDxvDvkVA",
        "outputId": "9efb0f66-ac90-4dda-fe9f-06883e763eb1"
      },
      "outputs": [
        {
          "output_type": "stream",
          "name": "stdout",
          "text": [
            "          y1        y2        y3        y4    y   y_proba\n",
            "id                                                       \n",
            "0   0.861565  0.825768  0.981361  1.000000  1.0  0.917174\n",
            "1   0.000091  0.019565  0.016155  0.000000  0.0  0.008953\n",
            "2   0.002317  0.002770  0.000213  0.000000  0.0  0.001325\n",
            "3   0.001281  0.014258  0.000051  0.000000  0.0  0.003898\n",
            "4   0.910999  0.694487  0.974119  0.666667  1.0  0.811568\n",
            "5   0.999998  0.999843  0.999994  1.000000  1.0  0.999959\n",
            "6   0.124068  0.125244  0.050158  0.333333  0.0  0.158201\n",
            "7   0.996941  0.984901  0.999464  1.000000  1.0  0.995327\n",
            "8   0.999995  0.998898  0.999996  1.000000  1.0  0.999722\n",
            "9   0.000091  0.000000  0.000002  0.000000  0.0  0.000023\n",
            "0.9830307813733228\n"
          ]
        }
      ],
      "source": [
        "probs_svm = pd.DataFrame(svm_proba, columns =[\"Class 0\", \"Class 1\"])\n",
        "probs_rf = pd.DataFrame(rf_proba, columns =[\"Class 0\", \"Class 1\"])\n",
        "probs_MLP = pd.DataFrame(MLP_proba, columns =[\"Class 0\", \"Class 1\"])\n",
        "probs_KNN = pd.DataFrame(KNN_proba, columns =[\"Class 0\", \"Class 1\"])\n",
        "# with KNN: 0.9830307813733228\n",
        "# without KNN: 0.9818468823993686\n",
        "\n",
        "probs = pd.concat([probs_svm[\"Class 1\"], probs_rf[\"Class 1\"], probs_MLP[\"Class 1\"], probs_KNN[\"Class 1\"]], axis=1)\n",
        "#probs = pd.concat([probs_svm[\"Class 1\"], probs_rf[\"Class 1\"], probs_MLP[\"Class 1\"]], axis=1)\n",
        "\n",
        "#probs.index = np.arange(1, len(probs) + 1)\n",
        "probs.columns = [\"y1\",\"y2\",\"y3\",\"y4\"]\n",
        "#probs.columns = [\"y1\",\"y2\",\"y3\"]\n",
        "probs.index.name = \"id\"\n",
        "probs[\"y\"] = (probs[\"y1\"]+probs[\"y2\"]+probs[\"y3\"]+probs[\"y4\"])/4\n",
        "#probs[\"y\"] = (probs[\"y1\"]+probs[\"y2\"]+probs[\"y3\"])/3\n",
        "probs[\"y_proba\"] = probs[\"y\"]\n",
        "\n",
        "probs.loc[probs[\"y\"] < 0.5 , \"y\"] = 0\n",
        "probs.loc[probs[\"y\"] >= 0.5 , \"y\"] = 1\n",
        "\n",
        "print(probs.head(10))\n",
        "print(accuracy_score(probs[\"y\"], y_train))"
      ],
      "id": "etDSDxvDvkVA"
    },
    {
      "cell_type": "code",
      "execution_count": null,
      "metadata": {
        "colab": {
          "base_uri": "https://localhost:8080/"
        },
        "id": "a_0WCPWo7fYe",
        "outputId": "f542bf64-8bc3-4217-c2a6-39db29e09675"
      },
      "outputs": [
        {
          "output_type": "stream",
          "name": "stdout",
          "text": [
            "[0.4153074528870741]\n",
            "          y1        y2        y3        y4    y   y_proba  pred_ROC\n",
            "id                                                                 \n",
            "0   0.861565  0.825768  0.981361  1.000000  1.0  0.917174         1\n",
            "1   0.000091  0.019565  0.016155  0.000000  0.0  0.008953         0\n",
            "2   0.002317  0.002770  0.000213  0.000000  0.0  0.001325         0\n",
            "3   0.001281  0.014258  0.000051  0.000000  0.0  0.003898         0\n",
            "4   0.910999  0.694487  0.974119  0.666667  1.0  0.811568         1\n",
            "5   0.999998  0.999843  0.999994  1.000000  1.0  0.999959         1\n",
            "6   0.124068  0.125244  0.050158  0.333333  0.0  0.158201         0\n",
            "7   0.996941  0.984901  0.999464  1.000000  1.0  0.995327         1\n",
            "8   0.999995  0.998898  0.999996  1.000000  1.0  0.999722         1\n",
            "9   0.000091  0.000000  0.000002  0.000000  0.0  0.000023         0\n",
            "0.9814522494080505\n"
          ]
        }
      ],
      "source": [
        "# ROC curve\n",
        "from sklearn.metrics import roc_curve, auc\n",
        "\n",
        "# the function Find_Optimal_Cutoff can be found from https://stackoverflow.com/questions/28719067/roc-curve-and-cut-off-point-python\n",
        "def Find_Optimal_Cutoff(target, predicted): \n",
        "    fpr, tpr, threshold = roc_curve(target, predicted)\n",
        "    i = np.arange(len(tpr)) \n",
        "    roc = pd.DataFrame({'tf' : pd.Series(tpr-(1-fpr), index=i), 'threshold' : pd.Series(threshold, index=i)})\n",
        "    roc_t = roc.iloc[(roc.tf-0).abs().argsort()[:1]]\n",
        "    return list(roc_t['threshold']) \n",
        "\n",
        "# Find optimal probability threshold\n",
        "threshold = Find_Optimal_Cutoff(y_train, probs[\"y_proba\"])\n",
        "print(threshold)\n",
        "\n",
        "# Find prediction to the dataframe applying threshold\n",
        "probs['pred_ROC'] = probs['y_proba'].map(lambda x: 1 if x > threshold[0] else 0)\n",
        "print(probs.head(10))\n",
        "\n",
        "print(accuracy_score(probs[\"pred_ROC\"], y_train))"
      ],
      "id": "a_0WCPWo7fYe"
    },
    {
      "cell_type": "code",
      "execution_count": null,
      "metadata": {
        "colab": {
          "base_uri": "https://localhost:8080/"
        },
        "id": "3Qg5h6FvV9KK",
        "outputId": "9bf1ae24-db02-4ba2-9306-8dc9e0ab86a4"
      },
      "outputs": [
        {
          "output_type": "stream",
          "name": "stdout",
          "text": [
            "          y1        y2        y3        y4    y   y_proba\n",
            "id                                                       \n",
            "0   0.004751  0.000000  0.001685  0.000000  0.0  0.001609\n",
            "1   0.981623  0.997577  0.993982  1.000000  1.0  0.993296\n",
            "2   1.000000  0.851230  0.998644  0.666667  1.0  0.879135\n",
            "3   0.054388  0.041250  0.033289  0.333333  0.0  0.115565\n",
            "4   0.002294  0.011056  0.004234  0.000000  0.0  0.004396\n",
            "5   0.015523  0.044889  0.057468  0.000000  0.0  0.029470\n",
            "6   0.995997  0.994846  0.999749  1.000000  1.0  0.997648\n",
            "7   0.992553  0.987999  0.997099  1.000000  1.0  0.994412\n",
            "8   0.000884  0.002889  0.000746  0.000000  0.0  0.001130\n",
            "9   0.978111  0.986833  0.998838  1.000000  1.0  0.990946\n",
            "0.9779179810725552\n",
            "          y1        y2        y3        y4    y   y_proba  pred_ROC\n",
            "id                                                                 \n",
            "0   0.004751  0.000000  0.001685  0.000000  0.0  0.001609         0\n",
            "1   0.981623  0.997577  0.993982  1.000000  1.0  0.993296         1\n",
            "2   1.000000  0.851230  0.998644  0.666667  1.0  0.879135         1\n",
            "3   0.054388  0.041250  0.033289  0.333333  0.0  0.115565         0\n",
            "4   0.002294  0.011056  0.004234  0.000000  0.0  0.004396         0\n",
            "5   0.015523  0.044889  0.057468  0.000000  0.0  0.029470         0\n",
            "6   0.995997  0.994846  0.999749  1.000000  1.0  0.997648         1\n",
            "7   0.992553  0.987999  0.997099  1.000000  1.0  0.994412         1\n",
            "8   0.000884  0.002889  0.000746  0.000000  0.0  0.001130         0\n",
            "9   0.978111  0.986833  0.998838  1.000000  1.0  0.990946         1\n",
            "0.9747634069400631\n"
          ]
        }
      ],
      "source": [
        "svm_proba_test = cross_val_predict(svm_model, X_test, y_test, cv=k_folds, method='predict_proba')\n",
        "rf_proba_test  = cross_val_predict(rf_model, X_test, y_test, cv=k_folds, method='predict_proba')\n",
        "MLP_proba_test = cross_val_predict(MLP_model, X_test, y_test, cv=k_folds, method='predict_proba')\n",
        "KNN_proba_test = cross_val_predict(KNN_model, X_test, y_test, cv=k_folds, method='predict_proba')\n",
        "\n",
        "probs_svm_test = pd.DataFrame(svm_proba_test, columns =[\"Class 0\", \"Class 1\"])\n",
        "probs_rf_test  = pd.DataFrame(rf_proba_test,  columns =[\"Class 0\", \"Class 1\"])\n",
        "probs_MLP_test = pd.DataFrame(MLP_proba_test, columns =[\"Class 0\", \"Class 1\"])\n",
        "probs_KNN_test = pd.DataFrame(KNN_proba_test, columns =[\"Class 0\", \"Class 1\"])\n",
        "\n",
        "probs_test = pd.concat([probs_svm_test[\"Class 1\"], probs_rf_test[\"Class 1\"], probs_MLP_test[\"Class 1\"], probs_KNN_test[\"Class 1\"]], axis=1)\n",
        "\n",
        "probs_test.columns = [\"y1\",\"y2\",\"y3\",\"y4\"]\n",
        "probs_test.index.name = \"id\"\n",
        "probs_test[\"y\"] = (probs_test[\"y1\"]+probs_test[\"y2\"]+probs_test[\"y3\"]+probs_test[\"y4\"])/4\n",
        "probs_test[\"y_proba\"] = probs_test[\"y\"]\n",
        "\n",
        "probs_test.loc[probs_test[\"y\"] < 0.5 , \"y\"] = 0\n",
        "probs_test.loc[probs_test[\"y\"] >= 0.5 , \"y\"] = 1\n",
        "\n",
        "print(probs_test.head(10))\n",
        "print(accuracy_score(probs_test[\"y\"], y_test))\n",
        "\n",
        "# accuracy score: 0.9779179810725552\n",
        "\n",
        "probs_test['pred_ROC'] = probs_test['y_proba'].map(lambda x: 1 if x > threshold[0] else 0)\n",
        "print(probs_test.head(10))\n",
        "print(accuracy_score(probs_test[\"pred_ROC\"], y_test))\n",
        "# accuracy score witf new cutoff: 0.9747634069400631"
      ],
      "id": "3Qg5h6FvV9KK"
    },
    {
      "cell_type": "code",
      "source": [
        "# line plot showing the predictions of different models in different phases\n",
        "data = [[0.89541985199, 0.89541985199, 0.966063256, 0.966063256, 0.9707985437], [0.70204255, 0.70284242, 0.974747211999, 0.97632590375, 0.979481722], [0.9786927679, 0.9806643740, 0.980269118, 0.97869120845, 0.97869120845], [0.88595551799, 0.88595551799, 0.890691582, 0.9167364408, 0.9167364408], [0.9080626200, 0.970798544, 0.9711938, 0.97119224142, 0.97829595154], [0.679942466, 0.679942466, 0.9759298672342152, 0.9759298672342152, 0.9767180422698818]]\n",
        "df = pd.DataFrame(data=data, columns=[\"Before\", \"Params\", \"Scaler\", \"Filter\", \"After\"], index=[\"LR\", \"KNN\", \"RF\", \"NB\", \"MLP\", \"SVM\"])\n",
        "\n",
        "print(df.After)\n",
        "fig, ax = plt.subplots()\n",
        "sns.lineplot(data=data, legend=False)\n",
        "ax.set_xlim(-0.1,4.1)\n",
        "ax.set_xticks(range(0,5))\n",
        "plt.legend(title='Model', loc='lower right', labels=['LR', 'KNN', 'RF', 'NB', 'MLP', 'SVM'])\n",
        "plt.show()\n",
        "df"
      ],
      "metadata": {
        "id": "YPdHmnwf7K4k",
        "colab": {
          "base_uri": "https://localhost:8080/",
          "height": 607
        },
        "outputId": "ba2ceb70-770f-4ba8-db63-246e87bf825a"
      },
      "id": "YPdHmnwf7K4k",
      "execution_count": null,
      "outputs": [
        {
          "output_type": "stream",
          "name": "stdout",
          "text": [
            "LR     0.970799\n",
            "KNN    0.979482\n",
            "RF     0.978691\n",
            "NB     0.916736\n",
            "MLP    0.978296\n",
            "SVM    0.976718\n",
            "Name: After, dtype: float64\n"
          ]
        },
        {
          "output_type": "display_data",
          "data": {
            "text/plain": [
              "<Figure size 432x288 with 1 Axes>"
            ],
            "image/png": "[encoded data removed]"
          },
          "metadata": {
            "needs_background": "light"
          }
        },
        {
          "output_type": "execute_result",
          "data": {
            "text/plain": [
              "       Before    Params    Scaler    Filter     After\n",
              "LR   0.895420  0.895420  0.966063  0.966063  0.970799\n",
              "KNN  0.702043  0.702842  0.974747  0.976326  0.979482\n",
              "RF   0.978693  0.980664  0.980269  0.978691  0.978691\n",
              "NB   0.885956  0.885956  0.890692  0.916736  0.916736\n",
              "MLP  0.908063  0.970799  0.971194  0.971192  0.978296\n",
              "SVM  0.679942  0.679942  0.975930  0.975930  0.976718"
            ],
            "text/html": [
              "\n",
              "  <div id=\"df-551b91fe-a00f-4540-a8ab-c13836f33ae5\">\n",
              "    <div class=\"colab-df-container\">\n",
              "      <div>\n",
              "<style scoped>\n",
              "    .dataframe tbody tr th:only-of-type {\n",
              "        vertical-align: middle;\n",
              "    }\n",
              "\n",
              "    .dataframe tbody tr th {\n",
              "        vertical-align: top;\n",
              "    }\n",
              "\n",
              "    .dataframe thead th {\n",
              "        text-align: right;\n",
              "    }\n",
              "</style>\n",
              "<table border=\"1\" class=\"dataframe\">\n",
              "  <thead>\n",
              "    <tr style=\"text-align: right;\">\n",
              "      <th></th>\n",
              "      <th>Before</th>\n",
              "      <th>Params</th>\n",
              "      <th>Scaler</th>\n",
              "      <th>Filter</th>\n",
              "      <th>After</th>\n",
              "    </tr>\n",
              "  </thead>\n",
              "  <tbody>\n",
              "    <tr>\n",
              "      <th>LR</th>\n",
              "      <td>0.895420</td>\n",
              "      <td>0.895420</td>\n",
              "      <td>0.966063</td>\n",
              "      <td>0.966063</td>\n",
              "      <td>0.970799</td>\n",
              "    </tr>\n",
              "    <tr>\n",
              "      <th>KNN</th>\n",
              "      <td>0.702043</td>\n",
              "      <td>0.702842</td>\n",
              "      <td>0.974747</td>\n",
              "      <td>0.976326</td>\n",
              "      <td>0.979482</td>\n",
              "    </tr>\n",
              "    <tr>\n",
              "      <th>RF</th>\n",
              "      <td>0.978693</td>\n",
              "      <td>0.980664</td>\n",
              "      <td>0.980269</td>\n",
              "      <td>0.978691</td>\n",
              "      <td>0.978691</td>\n",
              "    </tr>\n",
              "    <tr>\n",
              "      <th>NB</th>\n",
              "      <td>0.885956</td>\n",
              "      <td>0.885956</td>\n",
              "      <td>0.890692</td>\n",
              "      <td>0.916736</td>\n",
              "      <td>0.916736</td>\n",
              "    </tr>\n",
              "    <tr>\n",
              "      <th>MLP</th>\n",
              "      <td>0.908063</td>\n",
              "      <td>0.970799</td>\n",
              "      <td>0.971194</td>\n",
              "      <td>0.971192</td>\n",
              "      <td>0.978296</td>\n",
              "    </tr>\n",
              "    <tr>\n",
              "      <th>SVM</th>\n",
              "      <td>0.679942</td>\n",
              "      <td>0.679942</td>\n",
              "      <td>0.975930</td>\n",
              "      <td>0.975930</td>\n",
              "      <td>0.976718</td>\n",
              "    </tr>\n",
              "  </tbody>\n",
              "</table>\n",
              "</div>\n",
              "      <button class=\"colab-df-convert\" onclick=\"convertToInteractive('df-551b91fe-a00f-4540-a8ab-c13836f33ae5')\"\n",
              "              title=\"Convert this dataframe to an interactive table.\"\n",
              "              style=\"display:none;\">\n",
              "        \n",
              "  <svg xmlns=\"http://www.w3.org/2000/svg\" height=\"24px\"viewBox=\"0 0 24 24\"\n",
              "       width=\"24px\">\n",
              "    <path d=\"M0 0h24v24H0V0z\" fill=\"none\"/>\n",
              "    <path d=\"M18.56 5.44l.94 2.06.94-2.06 2.06-.94-2.06-.94-.94-2.06-.94 2.06-2.06.94zm-11 1L8.5 8.5l.94-2.06 2.06-.94-2.06-.94L8.5 2.5l-.94 2.06-2.06.94zm10 10l.94 2.06.94-2.06 2.06-.94-2.06-.94-.94-2.06-.94 2.06-2.06.94z\"/><path d=\"M17.41 7.96l-1.37-1.37c-.4-.4-.92-.59-1.43-.59-.52 0-1.04.2-1.43.59L10.3 9.45l-7.72 7.72c-.78.78-.78 2.05 0 2.83L4 21.41c.39.39.9.59 1.41.59.51 0 1.02-.2 1.41-.59l7.78-7.78 2.81-2.81c.8-.78.8-2.07 0-2.86zM5.41 20L4 18.59l7.72-7.72 1.47 1.35L5.41 20z\"/>\n",
              "  </svg>\n",
              "      </button>\n",
              "      \n",
              "  <style>\n",
              "    .colab-df-container {\n",
              "      display:flex;\n",
              "      flex-wrap:wrap;\n",
              "      gap: 12px;\n",
              "    }\n",
              "\n",
              "    .colab-df-convert {\n",
              "      background-color: #E8F0FE;\n",
              "      border: none;\n",
              "      border-radius: 50%;\n",
              "      cursor: pointer;\n",
              "      display: none;\n",
              "      fill: #1967D2;\n",
              "      height: 32px;\n",
              "      padding: 0 0 0 0;\n",
              "      width: 32px;\n",
              "    }\n",
              "\n",
              "    .colab-df-convert:hover {\n",
              "      background-color: #E2EBFA;\n",
              "      box-shadow: 0px 1px 2px rgba(60, 64, 67, 0.3), 0px 1px 3px 1px rgba(60, 64, 67, 0.15);\n",
              "      fill: #174EA6;\n",
              "    }\n",
              "\n",
              "    [theme=dark] .colab-df-convert {\n",
              "      background-color: #3B4455;\n",
              "      fill: #D2E3FC;\n",
              "    }\n",
              "\n",
              "    [theme=dark] .colab-df-convert:hover {\n",
              "      background-color: #434B5C;\n",
              "      box-shadow: 0px 1px 3px 1px rgba(0, 0, 0, 0.15);\n",
              "      filter: drop-shadow(0px 1px 2px rgba(0, 0, 0, 0.3));\n",
              "      fill: #FFFFFF;\n",
              "    }\n",
              "  </style>\n",
              "\n",
              "      <script>\n",
              "        const buttonEl =\n",
              "          document.querySelector('#df-551b91fe-a00f-4540-a8ab-c13836f33ae5 button.colab-df-convert');\n",
              "        buttonEl.style.display =\n",
              "          google.colab.kernel.accessAllowed ? 'block' : 'none';\n",
              "\n",
              "        async function convertToInteractive(key) {\n",
              "          const element = document.querySelector('#df-551b91fe-a00f-4540-a8ab-c13836f33ae5');\n",
              "          const dataTable =\n",
              "            await google.colab.kernel.invokeFunction('convertToInteractive',\n",
              "                                                     [key], {});\n",
              "          if (!dataTable) return;\n",
              "\n",
              "          const docLinkHtml = 'Like what you see? Visit the ' +\n",
              "            '<a target=\"_blank\" href=https://colab.research.google.com/notebooks/data_table.ipynb>data table notebook</a>'\n",
              "            + ' to learn more about interactive tables.';\n",
              "          element.innerHTML = '';\n",
              "          dataTable['output_type'] = 'display_data';\n",
              "          await google.colab.output.renderOutput(dataTable, element);\n",
              "          const docLink = document.createElement('div');\n",
              "          docLink.innerHTML = docLinkHtml;\n",
              "          element.appendChild(docLink);\n",
              "        }\n",
              "      </script>\n",
              "    </div>\n",
              "  </div>\n",
              "  "
            ]
          },
          "metadata": {},
          "execution_count": 70
        }
      ]
    },
    {
      "cell_type": "markdown",
      "metadata": {
        "id": "I444ueCCLDg2"
      },
      "source": [
        "#Conclusion <br>\n",
        "Accuracy: 98.30% on the training data and 97.79% on the test data. <br>\n",
        "Used models: KNN, MLP, SVM and Random Forest <br>\n"
      ],
      "id": "I444ueCCLDg2"
    },
    {
      "cell_type": "markdown",
      "metadata": {
        "id": "GJWzlSczLO9J"
      },
      "source": [
        "# Correlation analysis <br>"
      ],
      "id": "GJWzlSczLO9J"
    },
    {
      "cell_type": "code",
      "execution_count": null,
      "metadata": {
        "colab": {
          "base_uri": "https://localhost:8080/",
          "height": 738
        },
        "id": "NKVvQl9FG-Df",
        "outputId": "419fa41e-3658-4bf5-c64b-9269b02736d8"
      },
      "outputs": [
        {
          "output_type": "execute_result",
          "data": {
            "text/plain": [
              "<seaborn.axisgrid.FacetGrid at 0x7febb05746d0>"
            ]
          },
          "metadata": {},
          "execution_count": 55
        },
        {
          "output_type": "display_data",
          "data": {
            "text/plain": [
              "<Figure size 360x360 with 1 Axes>"
            ],
            "image/png": "[encoded data removed]"
          },
          "metadata": {
            "needs_background": "light"
          }
        },
        {
          "output_type": "display_data",
          "data": {
            "text/plain": [
              "<Figure size 360x360 with 1 Axes>"
            ],
            "image/png": "[encoded data removed]"
          },
          "metadata": {
            "needs_background": "light"
          }
        }
      ],
      "source": [
        "# Plots of distribution for each of the features in the dataset\n",
        "\n",
        "data_male   = data.loc[data['label'] == 1]\n",
        "data_female = data.loc[data['label'] == 0]\n",
        "\n",
        "for column in data.columns:\n",
        "  print(\"Column:\", column,\"Min:\", data[column].min(), \"--\", \"Max:\", data[column].max())\n",
        "\n",
        "for column in data.columns:\n",
        "  sns.displot(data, x=column)\n",
        "  plt.save('.png')\n",
        "\n",
        "sns.displot(data_male, x='meanfun')\n",
        "sns.displot(data_female, x='meanfun')"
      ],
      "id": "NKVvQl9FG-Df"
    },
    {
      "cell_type": "code",
      "execution_count": null,
      "metadata": {
        "colab": {
          "base_uri": "https://localhost:8080/"
        },
        "id": "fgE2P5OoLOM2",
        "outputId": "83757f9b-748e-4a99-90e3-d6792e8561cd"
      },
      "outputs": [
        {
          "name": "stdout",
          "output_type": "stream",
          "text": [
            "meanfun    -0.833921\n",
            "Q25        -0.511455\n",
            "meanfreq   -0.337415\n",
            "centroid   -0.337415\n",
            "median     -0.283919\n",
            "maxdom     -0.195657\n",
            "mindom     -0.194974\n",
            "dfrange    -0.192213\n",
            "meandom    -0.191067\n",
            "mode       -0.171775\n",
            "maxfun     -0.166461\n",
            "minfun     -0.136692\n",
            "modindx     0.030801\n",
            "skew        0.036627\n",
            "Q75         0.066906\n",
            "kurt        0.087195\n",
            "sfm         0.357499\n",
            "sd          0.479539\n",
            "sp.ent      0.490552\n",
            "IQR         0.618916\n",
            "label       1.000000\n",
            "Name: label, dtype: float64\n"
          ]
        }
      ],
      "source": [
        "data = pd.read_csv(\"voice.csv\")\n",
        "data[\"label\"] = data[\"label\"].map(dict(male=1, female=0))\n",
        "\n",
        "correlated_features = set()\n",
        "correlation_matrix = data.corr()\n",
        "#print(correlation_matrix)\n",
        "\n",
        "print(correlation_matrix[\"label\"].sort_values(ascending=True))\n",
        "\n",
        "# TOP 2 highest:\n",
        "# meanfun: average of fundamental frequency measured across acoustic signal\n",
        "# IQR: interquantile range (in kHz)\n",
        "\n",
        "# TOP 2 lowest:\n",
        "# modindx: modulation index. Calculated as the accumulated absolute difference between adjacent measurements of fundamental frequencies divided by the frequency range\n",
        "# skew: skewness (measure of symmetry)"
      ],
      "id": "fgE2P5OoLOM2"
    },
    {
      "cell_type": "code",
      "source": [
        "# analysing the rows, where the model's prediction probability is from 0.4 to 0.6 (meaning the cases, when the model is quite unsure about the prediction)\n",
        "for i in range(len(probs_test)):\n",
        "  if probs_test[\"y_proba\"].iloc[i] < 0.6 and probs_test[\"y_proba\"].iloc[i] > 0.4:\n",
        "    print(data.iloc[i].to_frame())\n",
        "\n",
        "\"\"\"\n",
        "Values are in range:\n",
        "meanfreq: 0.13-0.16   \n",
        "sd: 0.06-0.08           \n",
        "median: 0.11-0.18            \n",
        "Q75: 0.2-0.25\t\t\n",
        "IQR: 0.10-0.16\t\t\n",
        "sp.ent: 0.90-0.97\t\t\n",
        "centorid: 0.13-0.16\t\n",
        "meanfun: 0.10-0.12\t\n",
        "maxfun: 0.17-0.27\t\t\n",
        "label: 1.00\n",
        "\"\"\"\n",
        "\n",
        "# these rows are all males, whose sd value falls into the \"female peak\" and whose meanfun value falls into the \"male peak\", thus confusing the model"
      ],
      "metadata": {
        "id": "gGgoJYAYaVPz"
      },
      "id": "gGgoJYAYaVPz",
      "execution_count": null,
      "outputs": []
    },
    {
      "cell_type": "code",
      "execution_count": null,
      "metadata": {
        "colab": {
          "base_uri": "https://localhost:8080/",
          "height": 1000
        },
        "id": "xkMd0bNiPOx1",
        "outputId": "32ceefc0-1665-43a2-a700-a86703fabed2"
      },
      "outputs": [
        {
          "output_type": "display_data",
          "data": {
            "text/plain": [
              "<Figure size 432x288 with 1 Axes>"
            ],
            "image/png": "[encoded data removed]"
          },
          "metadata": {
            "needs_background": "light"
          }
        },
        {
          "output_type": "display_data",
          "data": {
            "text/plain": [
              "<Figure size 432x288 with 1 Axes>"
            ],
            "image/png": "[encoded data removed]"
          },
          "metadata": {
            "needs_background": "light"
          }
        },
        {
          "output_type": "display_data",
          "data": {
            "text/plain": [
              "<Figure size 432x288 with 1 Axes>"
            ],
            "image/png": "[encoded data removed]"
          },
          "metadata": {
            "needs_background": "light"
          }
        },
        {
          "output_type": "execute_result",
          "data": {
            "text/plain": [
              "<matplotlib.axes._subplots.AxesSubplot at 0x7fd2db7c4490>"
            ]
          },
          "metadata": {},
          "execution_count": 50
        },
        {
          "output_type": "display_data",
          "data": {
            "text/plain": [
              "<Figure size 432x288 with 1 Axes>"
            ],
            "image/png": "[encoded data removed]"
          },
          "metadata": {
            "needs_background": "light"
          }
        }
      ],
      "source": [
        "# creating plots for data visualization\n",
        "data = pd.read_csv(\"voice.csv\")\n",
        "data = data.sample(frac = 1)\n",
        "sns.scatterplot(data=data, x=\"meanfun\", y=\"IQR\", hue=\"label\", alpha=0.5, palette=('b', 'r'))\n",
        "plt.show()\n",
        "sns.scatterplot(data=data, x=\"modindx\", y=\"skew\", hue=\"label\", alpha=0.5, palette=('b', 'r'))\n",
        "plt.show()"
      ],
      "id": "xkMd0bNiPOx1"
    }
  ],
  "metadata": {
    "colab": {
      "provenance": []
    },
    "gpuClass": "standard",
    "kernelspec": {
      "display_name": "Python 3",
      "name": "python3"
    },
    "language_info": {
      "name": "python"
    }
  },
  "nbformat": 4,
  "nbformat_minor": 5
}